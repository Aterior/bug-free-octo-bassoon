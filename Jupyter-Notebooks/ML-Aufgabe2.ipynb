{
 "cells": [
  {
   "cell_type": "markdown",
   "metadata": {},
   "source": [
    "# Authors\n",
    "First Student:$\\newline$\n",
    "    Name: Michelangelo Battista $\\newline$\n",
    "    matriculation number: 6736695 $\\newline$\n",
    "Second Student: $\\newline$\n",
    "    Name: Fabian Lebert $\\newline$\n",
    "    matriculation number: 6648204 $\\newline$"
   ]
  },
  {
   "cell_type": "markdown",
   "metadata": {},
   "source": [
    "# Imports"
   ]
  },
  {
   "cell_type": "code",
   "execution_count": 2,
   "metadata": {},
   "outputs": [],
   "source": [
    "import numpy as np\n",
    "import matplotlib.pyplot as plt\n",
    "from sklearn import datasets\n",
    "iris=datasets.load_iris()"
   ]
  },
  {
   "cell_type": "markdown",
   "metadata": {},
   "source": [
    "# Exercise 1. K-Means Clustering"
   ]
  },
  {
   "cell_type": "markdown",
   "metadata": {},
   "source": [
    "1)"
   ]
  },
  {
   "cell_type": "code",
   "execution_count": 3,
   "metadata": {},
   "outputs": [
    {
     "name": "stdout",
     "output_type": "stream",
     "text": [
      "(150, 4) (3, 1, 4)\n",
      "(150, 4) (3, 1, 4)\n"
     ]
    },
    {
     "ename": "ValueError",
     "evalue": "operands could not be broadcast together with shapes (3,1,4) (3,5) ",
     "output_type": "error",
     "traceback": [
      "\u001b[1;31m---------------------------------------------------------------------------\u001b[0m",
      "\u001b[1;31mValueError\u001b[0m                                Traceback (most recent call last)",
      "\u001b[1;32mc:\\Users\\mikeb\\Desktop\\Uni\\Machine Learning\\GIT_Jupyter\\bug-free-octo-bassoon\\Jupyter-Notebooks\\ML-Aufgabe2.ipynb Cell 6'\u001b[0m in \u001b[0;36m<cell line: 31>\u001b[1;34m()\u001b[0m\n\u001b[0;32m     <a href='vscode-notebook-cell:/c%3A/Users/mikeb/Desktop/Uni/Machine%20Learning/GIT_Jupyter/bug-free-octo-bassoon/Jupyter-Notebooks/ML-Aufgabe2.ipynb#ch0000005?line=27'>28</a>\u001b[0m         old_cent\u001b[39m=\u001b[39mnew_cent\n\u001b[0;32m     <a href='vscode-notebook-cell:/c%3A/Users/mikeb/Desktop/Uni/Machine%20Learning/GIT_Jupyter/bug-free-octo-bassoon/Jupyter-Notebooks/ML-Aufgabe2.ipynb#ch0000005?line=28'>29</a>\u001b[0m     \u001b[39mreturn\u001b[39;00m(ind2,new_cent)\n\u001b[1;32m---> <a href='vscode-notebook-cell:/c%3A/Users/mikeb/Desktop/Uni/Machine%20Learning/GIT_Jupyter/bug-free-octo-bassoon/Jupyter-Notebooks/ML-Aufgabe2.ipynb#ch0000005?line=30'>31</a>\u001b[0m kmeans(iris\u001b[39m.\u001b[39;49mdata,\u001b[39m3\u001b[39;49m)\n",
      "\u001b[1;32mc:\\Users\\mikeb\\Desktop\\Uni\\Machine Learning\\GIT_Jupyter\\bug-free-octo-bassoon\\Jupyter-Notebooks\\ML-Aufgabe2.ipynb Cell 6'\u001b[0m in \u001b[0;36mkmeans\u001b[1;34m(data, ncluster)\u001b[0m\n\u001b[0;32m     <a href='vscode-notebook-cell:/c%3A/Users/mikeb/Desktop/Uni/Machine%20Learning/GIT_Jupyter/bug-free-octo-bassoon/Jupyter-Notebooks/ML-Aufgabe2.ipynb#ch0000005?line=23'>24</a>\u001b[0m mask\u001b[39m=\u001b[39mind2[:,\u001b[39m0\u001b[39m,\u001b[39mNone\u001b[39;00m]\u001b[39m==\u001b[39mcltrind \u001b[39m#mask( cluster of row == cluster i)\u001b[39;00m\n\u001b[0;32m     <a href='vscode-notebook-cell:/c%3A/Users/mikeb/Desktop/Uni/Machine%20Learning/GIT_Jupyter/bug-free-octo-bassoon/Jupyter-Notebooks/ML-Aufgabe2.ipynb#ch0000005?line=24'>25</a>\u001b[0m new_cent\u001b[39m=\u001b[39mnp\u001b[39m.\u001b[39mc_[cltrind,mask\u001b[39m.\u001b[39mtranspose()\u001b[39m.\u001b[39mdot(ind2[:,\u001b[39m1\u001b[39m:])\u001b[39m/\u001b[39mmask\u001b[39m.\u001b[39msum(\u001b[39m0\u001b[39m)[:,\u001b[39mNone\u001b[39;00m]] \u001b[39m# transposing the mask to get single 450 values in shape [3,150,1], using the dot product because True == 1 and False == 0 to get the correct column for each cluster and calculating the mean with formula\u001b[39;00m\n\u001b[1;32m---> <a href='vscode-notebook-cell:/c%3A/Users/mikeb/Desktop/Uni/Machine%20Learning/GIT_Jupyter/bug-free-octo-bassoon/Jupyter-Notebooks/ML-Aufgabe2.ipynb#ch0000005?line=25'>26</a>\u001b[0m \u001b[39mif\u001b[39;00m np\u001b[39m.\u001b[39;49mequal(old_cent,new_cent):\n\u001b[0;32m     <a href='vscode-notebook-cell:/c%3A/Users/mikeb/Desktop/Uni/Machine%20Learning/GIT_Jupyter/bug-free-octo-bassoon/Jupyter-Notebooks/ML-Aufgabe2.ipynb#ch0000005?line=26'>27</a>\u001b[0m     a\u001b[39m=\u001b[39m\u001b[39mFalse\u001b[39;00m\n\u001b[0;32m     <a href='vscode-notebook-cell:/c%3A/Users/mikeb/Desktop/Uni/Machine%20Learning/GIT_Jupyter/bug-free-octo-bassoon/Jupyter-Notebooks/ML-Aufgabe2.ipynb#ch0000005?line=27'>28</a>\u001b[0m old_cent\u001b[39m=\u001b[39mnew_cent\n",
      "\u001b[1;31mValueError\u001b[0m: operands could not be broadcast together with shapes (3,1,4) (3,5) "
     ]
    }
   ],
   "source": [
    "def kmeans(data, ncluster=3):\n",
    "    a=True\n",
    "    #nclstr=np.arange(ncluster)\n",
    "    centroids=np.random.default_rng().choice(150,(ncluster,1),replace=False)# chooses ncluster random numbers without duplicates\n",
    "    old_cent=data[centroids]\n",
    "    print(np.shape(data),np.shape(old_cent))\n",
    "    print(np.shape(iris.data),np.shape(iris.data[centroids]))\n",
    "    #!!!cluster_data = iris.data-iris.data[centroids]\n",
    "    cluster_data=data-old_cent\n",
    "    while a:\n",
    "        \n",
    "        #cluster_data=data-old_cent # hier werden Fehler geschmissen, die vor der Schleife nicht geworfen werden\n",
    "\n",
    "        #test_data = np.sqrt(np.sum((iris.data-iris.data[centroids])**2, axis=1))\n",
    "        test_data = np.sqrt(np.sum((cluster_data)**2, axis=2)) #formula for euclidean distance in numpy, vectorized\n",
    "        #print(iris.data[centroids])\n",
    "        #test2=test_data.reshape(3,1,150)\n",
    "        test2=np.amin(test_data,axis=0) #min values\n",
    "        test_min=np.argmin(test_data,axis=0) # index of minima\n",
    "        #test2=np.amin(test2,axis=0) # array of minima\n",
    "        #ind_dat=np.column_stack([np.array(test_min),np.array(test2)])\n",
    "        ind2=np.column_stack([test_min,iris.data]) # save array(index of minima + data)\n",
    "        cltrind=np.unique(ind2[:,0]) #get cluster indices without duplicates\n",
    "        mask=ind2[:,0,None]==cltrind #mask( cluster of row == cluster i)\n",
    "        new_cent=np.c_[cltrind,mask.transpose().dot(ind2[:,1:])/mask.sum(0)[:,None]] # transposing the mask to get single 450 values in shape [3,150,1], using the dot product because True == 1 and False == 0 to get the correct column for each cluster and calculating the mean with formula\n",
    "        if old_cent==new_cent: # !!!Zeile muss verändert werden, dass nur 1 Bool-Wert rauskommt\n",
    "            a=False\n",
    "        old_cent=new_cent\n",
    "    return(ind2,new_cent)\n",
    "\n",
    "kmeans(iris.data,3)\n",
    "#bei \"!!!\" wirft der Code Fehler oder stimmt noch etwas nicht"
   ]
  },
  {
   "cell_type": "code",
   "execution_count": 58,
   "metadata": {},
   "outputs": [
    {
     "data": {
      "image/png": "[encoded data removed]",
      "text/plain": [
       "<Figure size 432x288 with 1 Axes>"
      ]
     },
     "metadata": {
      "needs_background": "light"
     },
     "output_type": "display_data"
    },
    {
     "data": {
      "image/png": "[encoded data removed]",
      "text/plain": [
       "<Figure size 432x288 with 1 Axes>"
      ]
     },
     "metadata": {
      "needs_background": "light"
     },
     "output_type": "display_data"
    }
   ],
   "source": [
    "n=3\n",
    "dp,clstr=kmeans(iris.data,3)\n",
    "clst1=dp[np.where(dp[:,0]==0)]\n",
    "clst2=dp[np.where(dp[:,0]==1)]\n",
    "clst3=dp[np.where(dp[:,0]==2)]\n",
    "\n",
    "#plot1\n",
    "plt.plot(clstr[0][1],clstr[0][2],\"x\",c=\"green\")\n",
    "plt.plot(clstr[1][1],clstr[1][2],\"x\",c=\"red\")\n",
    "plt.plot(clstr[2][1],clstr[2][2],\"x\",c=\"blue\")\n",
    "plt.scatter(clst1[:,1],clst1[:,2],c=\"green\",marker=\".\")\n",
    "plt.scatter(clst2[:,1],clst2[:,2],c=\"red\",marker=\".\")\n",
    "plt.scatter(clst3[:,1],clst3[:,2],c=\"blue\",marker=\".\")\n",
    "plt.xlabel(\"sepal length\")\n",
    "plt.ylabel(\"sepal width\")\n",
    "plt.title(\"Sepal Length and Sepal width\")\n",
    "plt.show()\n",
    "\n",
    "#plot2\n",
    "plt.plot(clstr[0][1],clstr[0][4],\"x\",c=\"green\")\n",
    "plt.plot(clstr[1][1],clstr[1][4],\"x\",c=\"red\")\n",
    "plt.plot(clstr[2][1],clstr[2][4],\"x\",c=\"blue\")\n",
    "plt.scatter(clst1[:,1],clst1[:,4],c=\"green\",marker=\".\")\n",
    "plt.scatter(clst2[:,1],clst2[:,4],c=\"red\",marker=\".\")\n",
    "plt.scatter(clst3[:,1],clst3[:,4],c=\"blue\",marker=\".\")\n",
    "plt.xlabel(\"sepal length\")\n",
    "plt.ylabel(\"petal width\")\n",
    "plt.title(\"Sepal Length and Petal width\")\n",
    "plt.show()"
   ]
  },
  {
   "cell_type": "markdown",
   "metadata": {},
   "source": [
    "2)"
   ]
  },
  {
   "cell_type": "code",
   "execution_count": null,
   "metadata": {},
   "outputs": [],
   "source": []
  },
  {
   "cell_type": "markdown",
   "metadata": {},
   "source": [
    "# Exercise 2. Hierarchical Clustering"
   ]
  },
  {
   "cell_type": "code",
   "execution_count": 52,
   "metadata": {},
   "outputs": [
    {
     "ename": "TypeError",
     "evalue": "where() missing 1 required positional argument: 'condition'",
     "output_type": "error",
     "traceback": [
      "\u001b[1;31m---------------------------------------------------------------------------\u001b[0m",
      "\u001b[1;31mTypeError\u001b[0m                                 Traceback (most recent call last)",
      "\u001b[1;32mc:\\Users\\mikeb\\Desktop\\Uni\\Machine Learning\\GIT_Jupyter\\bug-free-octo-bassoon\\Jupyter-Notebooks\\ML-Aufgabe2.ipynb Cell 11'\u001b[0m in \u001b[0;36m<cell line: 6>\u001b[1;34m()\u001b[0m\n\u001b[0;32m      <a href='vscode-notebook-cell:/c%3A/Users/mikeb/Desktop/Uni/Machine%20Learning/GIT_Jupyter/bug-free-octo-bassoon/Jupyter-Notebooks/ML-Aufgabe2.ipynb#ch0000009?line=2'>3</a>\u001b[0m \u001b[39mdef\u001b[39;00m \u001b[39magglomerativeClustering\u001b[39m(data):\n\u001b[0;32m      <a href='vscode-notebook-cell:/c%3A/Users/mikeb/Desktop/Uni/Machine%20Learning/GIT_Jupyter/bug-free-octo-bassoon/Jupyter-Notebooks/ML-Aufgabe2.ipynb#ch0000009?line=3'>4</a>\u001b[0m     a,b\u001b[39m=\u001b[39mnp\u001b[39m.\u001b[39mwhere()\n\u001b[1;32m----> <a href='vscode-notebook-cell:/c%3A/Users/mikeb/Desktop/Uni/Machine%20Learning/GIT_Jupyter/bug-free-octo-bassoon/Jupyter-Notebooks/ML-Aufgabe2.ipynb#ch0000009?line=5'>6</a>\u001b[0m agglomerativeClustering(iris\u001b[39m.\u001b[39;49mdata)\n",
      "\u001b[1;32mc:\\Users\\mikeb\\Desktop\\Uni\\Machine Learning\\GIT_Jupyter\\bug-free-octo-bassoon\\Jupyter-Notebooks\\ML-Aufgabe2.ipynb Cell 11'\u001b[0m in \u001b[0;36magglomerativeClustering\u001b[1;34m(data)\u001b[0m\n\u001b[0;32m      <a href='vscode-notebook-cell:/c%3A/Users/mikeb/Desktop/Uni/Machine%20Learning/GIT_Jupyter/bug-free-octo-bassoon/Jupyter-Notebooks/ML-Aufgabe2.ipynb#ch0000009?line=2'>3</a>\u001b[0m \u001b[39mdef\u001b[39;00m \u001b[39magglomerativeClustering\u001b[39m(data):\n\u001b[1;32m----> <a href='vscode-notebook-cell:/c%3A/Users/mikeb/Desktop/Uni/Machine%20Learning/GIT_Jupyter/bug-free-octo-bassoon/Jupyter-Notebooks/ML-Aufgabe2.ipynb#ch0000009?line=3'>4</a>\u001b[0m     a,b\u001b[39m=\u001b[39mnp\u001b[39m.\u001b[39;49mwhere()\n",
      "File \u001b[1;32m<__array_function__ internals>:179\u001b[0m, in \u001b[0;36mwhere\u001b[1;34m(*args, **kwargs)\u001b[0m\n",
      "\u001b[1;31mTypeError\u001b[0m: where() missing 1 required positional argument: 'condition'"
     ]
    }
   ],
   "source": [
    "#print(iris.data[np.argwhere(iris.data[: ,0] == 5.1)])\n",
    "#print(iris.data)\n",
    "def agglomerativeClustering(data):\n",
    "    data,data\n",
    "        \n",
    "agglomerativeClustering(iris.data)"
   ]
  },
  {
   "cell_type": "code",
   "execution_count": null,
   "metadata": {},
   "outputs": [],
   "source": []
  }
 ],
 "metadata": {
  "interpreter": {
   "hash": "e450050b432e843bda3c41bf3272c133bfc370a7003f3e377e27f87a49ce1127"
  },
  "kernelspec": {
   "display_name": "Python 3.10.1 64-bit",
   "language": "python",
   "name": "python3"
  },
  "language_info": {
   "codemirror_mode": {
    "name": "ipython",
    "version": 3
   },
   "file_extension": ".py",
   "mimetype": "text/x-python",
   "name": "python",
   "nbconvert_exporter": "python",
   "pygments_lexer": "ipython3",
   "version": "3.10.1"
  },
  "orig_nbformat": 4
 },
 "nbformat": 4,
 "nbformat_minor": 2
}
