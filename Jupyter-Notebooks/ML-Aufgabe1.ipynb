{
 "cells": [
  {
   "cell_type": "code",
   "execution_count": 4,
   "metadata": {},
   "outputs": [],
   "source": [
    "import numpy as np\n",
    "import matplotlib.pyplot as plt\n",
    "from sklearn import datasets\n",
    "iris=datasets.load_iris()"
   ]
  },
  {
   "cell_type": "code",
   "execution_count": 7,
   "metadata": {},
   "outputs": [],
   "source": [
    "\n",
    "def min_max_scale(data,min_range=0,max_range=1):\n",
    "    minm,maxm=data.min(),data.max()\n",
    "    data=(data-minm)/(maxm-minm)\n",
    "    return(data,minm,maxm)"
   ]
  },
  {
   "cell_type": "code",
   "execution_count": 16,
   "metadata": {},
   "outputs": [
    {
     "name": "stdout",
     "output_type": "stream",
     "text": [
      "[[1.         0.67346939 0.24489796 0.        ]\n",
      " [0.95918367 0.57142857 0.24489796 0.        ]\n",
      " [0.91836735 0.6122449  0.2244898  0.        ]\n",
      " [0.89795918 0.59183673 0.26530612 0.        ]\n",
      " [0.97959184 0.69387755 0.24489796 0.        ]]\n"
     ]
    }
   ],
   "source": [
    "#Aufgabe 1a)\n",
    "temp=np.ndarray([5,4])\n",
    "for i in range(5):\n",
    "    temp[i]=iris.data[i]\n",
    "print(min_max_scale(temp)[0])"
   ]
  },
  {
   "cell_type": "code",
   "execution_count": null,
   "metadata": {},
   "outputs": [],
   "source": [
    "#Aufgabe 1b)\n",
    "print(min_max_scale(iris.data)[0][0:5])"
   ]
  },
  {
   "cell_type": "code",
   "execution_count": 33,
   "metadata": {},
   "outputs": [],
   "source": [
    "def zscore(data):\n",
    "    N=len(data)\n",
    "    mean=(1/N)*data.sum()\n",
    "    stddeviation=np.sqrt((1/N)*(np.sum((data-mean)**2)))\n",
    "    solution=(data-mean)/stddeviation\n",
    "    return solution"
   ]
  },
  {
   "cell_type": "markdown",
   "metadata": {},
   "source": [
    "2a)"
   ]
  },
  {
   "cell_type": "code",
   "execution_count": 34,
   "metadata": {},
   "outputs": [
    {
     "name": "stdout",
     "output_type": "stream",
     "text": [
      "150 876.5\n",
      "[[-0.90068117]\n",
      " [-1.14301691]\n",
      " [-1.38535265]\n",
      " [-1.50652052]\n",
      " [-1.02184904]\n",
      " [-0.53717756]\n",
      " [-1.50652052]\n",
      " [-1.02184904]\n",
      " [-1.74885626]\n",
      " [-1.14301691]\n",
      " [-0.53717756]\n",
      " [-1.26418478]\n",
      " [-1.26418478]\n",
      " [-1.87002413]\n",
      " [-0.05250608]\n",
      " [-0.17367395]\n",
      " [-0.53717756]\n",
      " [-0.90068117]\n",
      " [-0.17367395]\n",
      " [-0.90068117]\n",
      " [-0.53717756]\n",
      " [-0.90068117]\n",
      " [-1.50652052]\n",
      " [-0.90068117]\n",
      " [-1.26418478]\n",
      " [-1.02184904]\n",
      " [-1.02184904]\n",
      " [-0.7795133 ]\n",
      " [-0.7795133 ]\n",
      " [-1.38535265]\n",
      " [-1.26418478]\n",
      " [-0.53717756]\n",
      " [-0.7795133 ]\n",
      " [-0.41600969]\n",
      " [-1.14301691]\n",
      " [-1.02184904]\n",
      " [-0.41600969]\n",
      " [-1.14301691]\n",
      " [-1.74885626]\n",
      " [-0.90068117]\n",
      " [-1.02184904]\n",
      " [-1.62768839]\n",
      " [-1.74885626]\n",
      " [-1.02184904]\n",
      " [-0.90068117]\n",
      " [-1.26418478]\n",
      " [-0.90068117]\n",
      " [-1.50652052]\n",
      " [-0.65834543]\n",
      " [-1.02184904]\n",
      " [ 1.40150837]\n",
      " [ 0.67450115]\n",
      " [ 1.2803405 ]\n",
      " [-0.41600969]\n",
      " [ 0.79566902]\n",
      " [-0.17367395]\n",
      " [ 0.55333328]\n",
      " [-1.14301691]\n",
      " [ 0.91683689]\n",
      " [-0.7795133 ]\n",
      " [-1.02184904]\n",
      " [ 0.06866179]\n",
      " [ 0.18982966]\n",
      " [ 0.31099753]\n",
      " [-0.29484182]\n",
      " [ 1.03800476]\n",
      " [-0.29484182]\n",
      " [-0.05250608]\n",
      " [ 0.4321654 ]\n",
      " [-0.29484182]\n",
      " [ 0.06866179]\n",
      " [ 0.31099753]\n",
      " [ 0.55333328]\n",
      " [ 0.31099753]\n",
      " [ 0.67450115]\n",
      " [ 0.91683689]\n",
      " [ 1.15917263]\n",
      " [ 1.03800476]\n",
      " [ 0.18982966]\n",
      " [-0.17367395]\n",
      " [-0.41600969]\n",
      " [-0.41600969]\n",
      " [-0.05250608]\n",
      " [ 0.18982966]\n",
      " [-0.53717756]\n",
      " [ 0.18982966]\n",
      " [ 1.03800476]\n",
      " [ 0.55333328]\n",
      " [-0.29484182]\n",
      " [-0.41600969]\n",
      " [-0.41600969]\n",
      " [ 0.31099753]\n",
      " [-0.05250608]\n",
      " [-1.02184904]\n",
      " [-0.29484182]\n",
      " [-0.17367395]\n",
      " [-0.17367395]\n",
      " [ 0.4321654 ]\n",
      " [-0.90068117]\n",
      " [-0.17367395]\n",
      " [ 0.55333328]\n",
      " [-0.05250608]\n",
      " [ 1.52267624]\n",
      " [ 0.55333328]\n",
      " [ 0.79566902]\n",
      " [ 2.12851559]\n",
      " [-1.14301691]\n",
      " [ 1.76501198]\n",
      " [ 1.03800476]\n",
      " [ 1.64384411]\n",
      " [ 0.79566902]\n",
      " [ 0.67450115]\n",
      " [ 1.15917263]\n",
      " [-0.17367395]\n",
      " [-0.05250608]\n",
      " [ 0.67450115]\n",
      " [ 0.79566902]\n",
      " [ 2.24968346]\n",
      " [ 2.24968346]\n",
      " [ 0.18982966]\n",
      " [ 1.2803405 ]\n",
      " [-0.29484182]\n",
      " [ 2.24968346]\n",
      " [ 0.55333328]\n",
      " [ 1.03800476]\n",
      " [ 1.64384411]\n",
      " [ 0.4321654 ]\n",
      " [ 0.31099753]\n",
      " [ 0.67450115]\n",
      " [ 1.64384411]\n",
      " [ 1.88617985]\n",
      " [ 2.4920192 ]\n",
      " [ 0.67450115]\n",
      " [ 0.55333328]\n",
      " [ 0.31099753]\n",
      " [ 2.24968346]\n",
      " [ 0.55333328]\n",
      " [ 0.67450115]\n",
      " [ 0.18982966]\n",
      " [ 1.2803405 ]\n",
      " [ 1.03800476]\n",
      " [ 1.2803405 ]\n",
      " [-0.05250608]\n",
      " [ 1.15917263]\n",
      " [ 1.03800476]\n",
      " [ 1.03800476]\n",
      " [ 0.55333328]\n",
      " [ 0.79566902]\n",
      " [ 0.4321654 ]\n",
      " [ 0.06866179]]\n"
     ]
    }
   ],
   "source": [
    "#A = np.array([iris[:,0:1], iris[:,1:2], iris[:,2:3], iris[:,3:]])\n",
    "#print(zscore(iris.data[:,0:1]))\n",
    "print(zscore(iris.data[:,0:1]))"
   ]
  },
  {
   "cell_type": "markdown",
   "metadata": {},
   "source": [
    "2b)"
   ]
  },
  {
   "cell_type": "code",
   "execution_count": null,
   "metadata": {},
   "outputs": [],
   "source": []
  },
  {
   "cell_type": "markdown",
   "metadata": {},
   "source": [
    "# Exercise 3a"
   ]
  },
  {
   "cell_type": "code",
   "execution_count": 3,
   "metadata": {
    "vscode": {
     "languageId": "markdown"
    }
   },
   "outputs": [],
   "source": [
    "def random_three_plot(title,x_axis_label,y_axis_label):\n",
    "    x=np.arange(0,100)\n",
    "    values1=np.random.uniform(0,5,100)\n",
    "    values2=np.random.uniform(5,6,100)\n",
    "    values3=np.random.uniform(6,10,100)\n",
    "    plt.plot(x,values1,\"b--\")\n",
    "    plt.plot(x,values2,\"g-\",marker=\"o\",mfc=\"m\")\n",
    "    plt.plot(x,values3,\"r:\",marker=\"^\",mfc=\"k\")\n",
    "    plt.legend([\"values1\",\"values2\",\"values3\"])\n",
    "    plt.xlabel(x_axis_label)\n",
    "    plt.ylabel(y_axis_label)\n",
    "    plt.title(title)\n",
    "    plt.show()"
   ]
  },
  {
   "cell_type": "code",
   "execution_count": null,
   "metadata": {
    "vscode": {
     "languageId": "markdown"
    }
   },
   "outputs": [],
   "source": [
    "random_three_plot(\"Test1\",\"X-achse\",\"y-Achse\")"
   ]
  },
  {
   "cell_type": "code",
   "execution_count": 9,
   "metadata": {},
   "outputs": [],
   "source": [
    "#https://www.geeksforgeeks.org/how-to-display-multiple-images-in-one-figure-correctly-in-matplotlib/ helped with understand\n",
    "def compare_iris_data2d():\n",
    "    iris=datasets.load_iris()\n",
    "    one_a=iris.data[0:30]\n",
    "    one_a_mm=min_max_scale(one_a)[0]\n",
    "    one_b=iris.data\n",
    "    one_b_mm=min_max_scale(iris.data)[0]\n",
    "    fig=plt.figure(figsize=(8,8))\n",
    "    rows,columns=2,2\n",
    "    fig.add_subplot(rows,columns,1)\n",
    "    plt.imshow(one_a)\n",
    "    plt.colorbar()\n",
    "    plt.axis(\"on\")\n",
    "    plt.title(\"30,before min_max\")\n",
    "    fig.add_subplot(rows,columns,2)\n",
    "    plt.imshow(one_a_mm)\n",
    "    plt.colorbar()\n",
    "    plt.axis(\"on\")\n",
    "    plt.title(\"30,after min_max\")\n",
    "    fig.add_subplot(rows,columns,3)\n",
    "    plt.imshow(one_b)\n",
    "    plt.colorbar()\n",
    "    plt.axis(\"on\")\n",
    "    plt.title(\"complete,before min_max\")\n",
    "    fig.add_subplot(rows,columns,4)\n",
    "    plt.imshow(one_b_mm)\n",
    "    plt.colorbar()\n",
    "    plt.axis(\"on\")\n",
    "    plt.title(\"complete,after min_max\")\n"
   ]
  },
  {
   "cell_type": "code",
   "execution_count": 10,
   "metadata": {},
   "outputs": [
    {
     "data": {
      "image/png": "[encoded data removed]",
      "text/plain": [
       "<Figure size 576x576 with 8 Axes>"
      ]
     },
     "metadata": {
      "needs_background": "light"
     },
     "output_type": "display_data"
    }
   ],
   "source": [
    "compare_iris_data2d()"
   ]
  }
 ],
 "metadata": {
  "interpreter": {
   "hash": "c5916c55072cc56e5f416ee67ac3024866b5e6e87f1216c23248c5ba9b7809f5"
  },
  "kernelspec": {
   "display_name": "Python 3.10.4 64-bit",
   "language": "python",
   "name": "python3"
  },
  "language_info": {
   "codemirror_mode": {
    "name": "ipython",
    "version": 3
   },
   "file_extension": ".py",
   "mimetype": "text/x-python",
   "name": "python",
   "nbconvert_exporter": "python",
   "pygments_lexer": "ipython3",
   "version": "3.10.1"
  },
  "orig_nbformat": 4
 },
 "nbformat": 4,
 "nbformat_minor": 2
}
