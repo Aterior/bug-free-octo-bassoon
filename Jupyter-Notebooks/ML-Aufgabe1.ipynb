{
 "cells": [
  {
   "cell_type": "code",
   "execution_count": 4,
   "metadata": {},
   "outputs": [
    {
     "name": "stdout",
     "output_type": "stream",
     "text": [
      "Hello\n",
      "Geht das?\n"
     ]
    }
   ],
   "source": [
    "import numpy as np\n",
    "import matplotlib.pyplot as plt\n",
    "from sklearn import datasets\n",
    "iris=datasets.load_iris()\n",
    "print('Hello')\n",
    "print('Geht das?')\n"
   ]
  },
  {
   "cell_type": "code",
   "execution_count": 6,
   "metadata": {},
   "outputs": [],
   "source": [
    "\n",
    "def min_max_scale(data,min_range=0,max_range=1):\n",
    "    minm,maxm=data.min(),data.max()\n",
    "    data=(data-minm)/(maxm-minm)\n",
    "    return(data,minm,maxm)"
   ]
  },
  {
   "cell_type": "code",
   "execution_count": 16,
   "metadata": {},
   "outputs": [
    {
     "name": "stdout",
     "output_type": "stream",
     "text": [
      "[[1.         0.67346939 0.24489796 0.        ]\n",
      " [0.95918367 0.57142857 0.24489796 0.        ]\n",
      " [0.91836735 0.6122449  0.2244898  0.        ]\n",
      " [0.89795918 0.59183673 0.26530612 0.        ]\n",
      " [0.97959184 0.69387755 0.24489796 0.        ]]\n"
     ]
    }
   ],
   "source": [
    "#Aufgabe 1a)\n",
    "temp=np.ndarray([5,4])\n",
    "for i in range(5):\n",
    "    temp[i]=iris.data[i]\n",
    "print(min_max_scale(temp)[0])"
   ]
  },
  {
   "cell_type": "code",
   "execution_count": null,
   "metadata": {},
   "outputs": [],
   "source": [
    "#Aufgabe 1b)\n",
    "print(min_max_scale(iris.data)[0][0:5])"
   ]
  },
  {
   "cell_type": "code",
   "execution_count": null,
   "metadata": {},
   "outputs": [],
   "source": [
    "def zscore(data):\n",
    "    N=len(data)\n",
    "    mean=1/N*data.sum()\n",
    "    stddeviation=np.sqrt(1/N*np.sum(data-mean)**2)\n",
    "    data=(data-mean)/stddeviation"
   ]
  },
  {
   "cell_type": "code",
   "execution_count": 2,
   "metadata": {},
   "outputs": [],
   "source": [
    "def random_three_plot(title,x_axis_label,y_axis_label):\n",
    "    x=np.arange(0,100)\n",
    "    values1=np.random.uniform(0,5,100)\n",
    "    values2=np.random.uniform(5,6,100)\n",
    "    values3=np.random.uniform(6,10,100)\n",
    "    plt.plot(x,values1,\"b--\")\n",
    "    plt.plot(x,values2,\"g-\",marker=\"o\",mfc=\"m\")\n",
    "    plt.plot(x,values3,\"r:\",marker=\"^\",mfc=\"k\")\n",
    "    plt.legend([\"values1\",\"values2\",\"values3\"])\n",
    "    plt.xlabel(x_axis_label)\n",
    "    plt.ylabel(y_axis_label)\n",
    "    plt.title(title)\n",
    "    plt.show()"
   ]
  },
  {
   "cell_type": "markdown",
   "metadata": {},
   "source": []
  },
  {
   "cell_type": "markdown",
   "metadata": {},
   "source": [
    "# Exercise 3a"
   ]
  },
  {
   "cell_type": "code",
   "execution_count": null,
   "metadata": {},
   "outputs": [],
   "source": [
    "random_three_plot(\"Test1\",\"X-achse\",\"y-Achse\")"
   ]
  },
  {
   "cell_type": "code",
   "execution_count": 8,
   "metadata": {},
   "outputs": [],
   "source": [
    "def compare_iris_data2d():\n",
    "    iris=datasets.iris_load()\n",
    "    one_b=min_max_scale(iris.data)[0]"
   ]
  },
  {
   "cell_type": "code",
   "execution_count": null,
   "metadata": {},
   "outputs": [],
   "source": []
  }
 ],
 "metadata": {
  "interpreter": {
   "hash": "c5916c55072cc56e5f416ee67ac3024866b5e6e87f1216c23248c5ba9b7809f5"
  },
  "kernelspec": {
   "display_name": "Python 3.10.4 64-bit",
   "language": "python",
   "name": "python3"
  },
  "language_info": {
   "codemirror_mode": {
    "name": "ipython",
    "version": 3
   },
   "file_extension": ".py",
   "mimetype": "text/x-python",
   "name": "python",
   "nbconvert_exporter": "python",
   "pygments_lexer": "ipython3",
   "version": "3.10.1"
  },
  "orig_nbformat": 4
 },
 "nbformat": 4,
 "nbformat_minor": 2
}
